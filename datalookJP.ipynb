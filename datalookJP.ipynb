{
 "cells": [
  {
   "cell_type": "code",
   "id": "initial_id",
   "metadata": {
    "collapsed": true,
    "ExecuteTime": {
     "end_time": "2024-12-23T08:23:20.818411Z",
     "start_time": "2024-12-23T08:23:19.589227Z"
    }
   },
   "source": [
    "import pymysql\n",
    "import pandas as pd\n",
    "from pyecharts import options as opts\n",
    "from pyecharts.charts import Bar\n",
    "\n",
    "# 连接到 MySQL 数据库\n",
    "conn = pymysql.connect(\n",
    "    host=\"localhost\",       # 数据库地址\n",
    "    user=\"root\",            # 数据库用户名\n",
    "    password=\"623163\",      # 数据库密码\n",
    "    database=\"data_analysis\"    # 数据库名称\n",
    ")\n",
    "# 直接用 pandas 从 MySQL 读取数据\n",
    "query = \"SELECT * FROM job_info\"  # 替换为你的 SQL 查询语句\n",
    "df = pd.read_sql(query, conn)\n"
   ],
   "outputs": [],
   "execution_count": 1
  },
  {
   "metadata": {},
   "cell_type": "code",
   "outputs": [],
   "execution_count": null,
   "source": [
    "from DataMap.salary_map import SalaryMap\n",
    "\n",
    "#进行数据映射\n",
    "from DataMap.experience_map import expMap\n",
    "from DataMap.education_map import educationMap\n",
    "from DataMap.add_map import MapChina\n",
    "\n",
    "df_data = df.copy()"
   ],
   "id": "4a8b886a57c759c4"
  }
 ],
 "metadata": {
  "kernelspec": {
   "display_name": "Python 3",
   "language": "python",
   "name": "python3"
  },
  "language_info": {
   "codemirror_mode": {
    "name": "ipython",
    "version": 2
   },
   "file_extension": ".py",
   "mimetype": "text/x-python",
   "name": "python",
   "nbconvert_exporter": "python",
   "pygments_lexer": "ipython2",
   "version": "2.7.6"
  }
 },
 "nbformat": 4,
 "nbformat_minor": 5
}
