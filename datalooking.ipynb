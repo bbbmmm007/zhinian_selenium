{
 "cells": [
  {
   "cell_type": "code",
   "id": "initial_id",
   "metadata": {
    "collapsed": true,
    "ExecuteTime": {
     "end_time": "2024-12-19T07:52:06.442484Z",
     "start_time": "2024-12-19T07:52:06.386109Z"
    }
   },
   "source": [
    "import pymysql\n",
    "import pandas as pd\n",
    "from pyecharts import options as opts\n",
    "\n",
    "# 连接到 MySQL 数据库\n",
    "conn = pymysql.connect(\n",
    "    host=\"localhost\",       # 数据库地址\n",
    "    user=\"root\",            # 数据库用户名\n",
    "    password=\"623163\",      # 数据库密码\n",
    "    database=\"data_analysis\"    # 数据库名称\n",
    ")\n",
    "# 直接用 pandas 从 MySQL 读取数据\n",
    "query = \"SELECT * FROM job_info\"  # 替换为你的 SQL 查询语句\n",
    "df = pd.read_sql(query, conn)\n",
    "\n",
    "# 关闭连接\n",
    "conn.close()"
   ],
   "outputs": [],
   "execution_count": 4
  },
  {
   "metadata": {
    "ExecuteTime": {
     "end_time": "2024-12-19T07:52:08.949960Z",
     "start_time": "2024-12-19T07:52:08.908661Z"
    }
   },
   "cell_type": "code",
   "source": [
    "from DataMap.salary_map import SalaryMap\n",
    "\n",
    "output_path = \"./bosszp-selenium/VisualResult/Chart/\"\n",
    "#进行数据映射\n",
    "from DataMap.experience_map import expMap\n",
    "from DataMap.education_map import educationMap\n",
    "\n",
    "from DataMap.add_map import MapChina\n",
    "\n",
    "df_data = df.copy()\n",
    "\n",
    "#城市映射\n",
    "location_list=df_data[\"job_location\"]\n",
    "result_location_dict = []\n",
    "for s_l in location_list:\n",
    "    s_category = MapChina.get_city_tier(s_l)\n",
    "    result_location_dict.append(s_category)\n",
    "df_data.loc[:, \"job_location\"] = result_location_dict\n",
    "\n",
    "#薪水映射\n",
    "salary_list = df_data[\"job_salary_range\"]\n",
    "result_salary_dict = []\n",
    "for s_s in salary_list:\n",
    "    s_category = SalaryMap.salaryMap(s_s)\n",
    "    result_salary_dict.append(s_category)\n",
    "df_data.loc[:, \"job_salary_range\"] = result_salary_dict\n",
    "\n",
    "#省份映射\n",
    "province_list = df_data[\"province\"]\n",
    "result_province_dict = []\n",
    "for s_p in province_list:\n",
    "    s_category = MapChina.get_province_name(s_p)\n",
    "    result_province_dict.append(s_category)\n",
    "df_data.loc[:, \"province\"] = result_province_dict\n",
    "\n",
    "#学历映射\n",
    "education_list = df_data[\"job_education\"]\n",
    "education_dict = []\n",
    "for s_e in education_list:\n",
    "    s_category = educationMap.map_education(s_e)\n",
    "    education_dict.append(s_category)\n",
    "df_data.loc[:, \"job_education\"] = education_dict\n",
    "\n",
    "#经验映射\n",
    "experience_list = df_data[\"job_experience\"]\n",
    "experience_dict = []\n",
    "for s_i in experience_list:\n",
    "    s_category = expMap.map_exp(s_i)\n",
    "    experience_dict.append(s_category)\n",
    "df_data.loc[:, \"job_experience\"] = experience_dict"
   ],
   "id": "3372956acb6e0763",
   "outputs": [
    {
     "ename": "IndexError",
     "evalue": "list index out of range",
     "output_type": "error",
     "traceback": [
      "\u001B[1;31m---------------------------------------------------------------------------\u001B[0m",
      "\u001B[1;31mIndexError\u001B[0m                                Traceback (most recent call last)",
      "Cell \u001B[1;32mIn[5], line 24\u001B[0m\n\u001B[0;32m     22\u001B[0m result_salary_dict \u001B[38;5;241m=\u001B[39m []\n\u001B[0;32m     23\u001B[0m \u001B[38;5;28;01mfor\u001B[39;00m s_s \u001B[38;5;129;01min\u001B[39;00m salary_list:\n\u001B[1;32m---> 24\u001B[0m     s_category \u001B[38;5;241m=\u001B[39m \u001B[43mSalaryMap\u001B[49m\u001B[38;5;241;43m.\u001B[39;49m\u001B[43msalaryMap\u001B[49m\u001B[43m(\u001B[49m\u001B[43ms_s\u001B[49m\u001B[43m)\u001B[49m\n\u001B[0;32m     25\u001B[0m     result_salary_dict\u001B[38;5;241m.\u001B[39mappend(s_category)\n\u001B[0;32m     26\u001B[0m df_data\u001B[38;5;241m.\u001B[39mloc[:, \u001B[38;5;124m\"\u001B[39m\u001B[38;5;124mjob_salary_range\u001B[39m\u001B[38;5;124m\"\u001B[39m] \u001B[38;5;241m=\u001B[39m result_salary_dict\n",
      "File \u001B[1;32mD:\\MuMuwork\\GitCangKu\\zhinian_selenium\\DataMap\\salary_map.py:35\u001B[0m, in \u001B[0;36mSalaryMap.salaryMap\u001B[1;34m(salary_str)\u001B[0m\n\u001B[0;32m     32\u001B[0m     num \u001B[38;5;241m=\u001B[39m \u001B[38;5;124m\"\u001B[39m\u001B[38;5;124m\"\u001B[39m\u001B[38;5;241m.\u001B[39mjoin([char \u001B[38;5;28;01mfor\u001B[39;00m char \u001B[38;5;129;01min\u001B[39;00m part \u001B[38;5;28;01mif\u001B[39;00m char\u001B[38;5;241m.\u001B[39misdigit() \u001B[38;5;129;01mor\u001B[39;00m char \u001B[38;5;241m==\u001B[39m \u001B[38;5;124m'\u001B[39m\u001B[38;5;124m.\u001B[39m\u001B[38;5;124m'\u001B[39m])\n\u001B[0;32m     33\u001B[0m     parts\u001B[38;5;241m.\u001B[39mappend(\u001B[38;5;28mfloat\u001B[39m(num))\n\u001B[1;32m---> 35\u001B[0m salary_str \u001B[38;5;241m=\u001B[39m \u001B[38;5;124mf\u001B[39m\u001B[38;5;124m\"\u001B[39m\u001B[38;5;132;01m{\u001B[39;00mparts[\u001B[38;5;241m0\u001B[39m]\u001B[38;5;132;01m}\u001B[39;00m\u001B[38;5;124mk-\u001B[39m\u001B[38;5;132;01m{\u001B[39;00mparts[\u001B[38;5;241m1\u001B[39m]\u001B[38;5;132;01m}\u001B[39;00m\u001B[38;5;124mk\u001B[39m\u001B[38;5;124m\"\u001B[39m\n\u001B[0;32m     36\u001B[0m \u001B[38;5;28;01mreturn\u001B[39;00m SalaryMap\u001B[38;5;241m.\u001B[39mmap_salary_to_range(salary_str)\n",
      "\u001B[1;31mIndexError\u001B[0m: list index out of range"
     ]
    }
   ],
   "execution_count": 5
  },
  {
   "metadata": {
    "ExecuteTime": {
     "end_time": "2024-12-17T08:11:19.242219Z",
     "start_time": "2024-12-17T08:11:19.232485Z"
    }
   },
   "cell_type": "code",
   "source": [
    "\n",
    "# 行业字段预处理\n",
    "industry_data = df_data[\"job_industry\"]\n",
    "industry_list =[]\n",
    "for s_i in industry_data:\n",
    "    industry_list.append(s_i)\n",
    "    \n",
    "# 技术字段预处理\n",
    "skills_data = df_data[\"job_skills\"]\n",
    "skills_list=[]\n",
    "for s_k in skills_data:\n",
    "    skills_list.append(s_k)\n",
    "# 福利待遇字段预处理\n",
    "welfare_data = df_data[\"job_welfare\"]\n",
    "welfare_list = []\n",
    "for s_w in welfare_data:\n",
    "    welfare_list.append(s_w)\n",
    "    \n",
    "  "
   ],
   "id": "4da4eb417a136c05",
   "outputs": [],
   "execution_count": 19
  },
  {
   "metadata": {
    "ExecuteTime": {
     "end_time": "2024-12-17T07:34:51.000254Z",
     "start_time": "2024-12-17T07:34:50.457074Z"
    }
   },
   "cell_type": "code",
   "source": [
    "from Tool.wordCloudCreateTool import WordCloudCreate\n",
    "wordCloud_ind = WordCloudCreate(industry_list, output_file=\"VisualResult/WordCloud/industryWordCloud.html\")\n",
    "wordCloud_ski = WordCloudCreate(skills_list, output_file=\"VisualResult/WordCloud/skillWordCloud.html\")\n",
    "wordCloud_wel = WordCloudCreate(welfare_list, output_file=\"VisualResult/WordCloud/welfareWordCloud.html\")\n",
    "\n"
   ],
   "id": "d6ec16ab1d375daa",
   "outputs": [
    {
     "name": "stderr",
     "output_type": "stream",
     "text": [
      "Building prefix dict from the default dictionary ...\n",
      "Loading model from cache C:\\Users\\TY\\AppData\\Local\\Temp\\jieba.cache\n",
      "Loading model cost 0.438 seconds.\n",
      "Prefix dict has been built successfully.\n"
     ]
    },
    {
     "name": "stdout",
     "output_type": "stream",
     "text": [
      "词云已保存至 'VisualResult/WordCloud/industryWordCloud.html'\n",
      "词云已保存至 'VisualResult/WordCloud/skillWordCloud.html'\n",
      "词云已保存至 'VisualResult/WordCloud/welfareWordCloud.html'\n"
     ]
    }
   ],
   "execution_count": 4
  },
  {
   "metadata": {
    "ExecuteTime": {
     "end_time": "2024-12-17T07:34:55.620122Z",
     "start_time": "2024-12-17T07:34:55.595370Z"
    }
   },
   "cell_type": "code",
   "source": [
    "from Tool.colorByDataDivide import colorByDataDivide\n",
    "#统计各个类别的数量\n",
    "province_counts=df_data[\"province\"].value_counts()\n",
    "\n",
    "province_data = [(province, count) for province, count in province_counts.items()]\n",
    "\n",
    "# 填充省份数据（没有数据的省份填充为0）\n",
    "province_dict = {province: 0 for province in MapChina.get_all_provinces()}  # 初始化所有省份为 0\n",
    "for province, count in province_data:\n",
    "    mapped_province = MapChina.get_province_name(province)  # 映射省份名称\n",
    "    if mapped_province in province_dict:\n",
    "        province_dict[mapped_province] = count  # 填充有数据的省份\n",
    "# 将省份数据转换为 pyecharts 可用的格式\n",
    "formatted_data = [[province, province_dict[province]] for province in province_dict]\n",
    "# 转换为数据框\n",
    "df_data = pd.DataFrame(province_data, columns=['province', 'count'])\n",
    "# 提取数值部分\n",
    "province_values = df_data['count'].tolist()\n",
    "pieces = colorByDataDivide.auto_generate_pieces(province_values)"
   ],
   "id": "6ac42600bbb33613",
   "outputs": [],
   "execution_count": 5
  },
  {
   "metadata": {
    "ExecuteTime": {
     "end_time": "2024-12-17T08:11:14.022662Z",
     "start_time": "2024-12-17T08:11:13.988186Z"
    }
   },
   "cell_type": "code",
   "source": [
    "from pyecharts.charts import Map\n",
    "\n",
    "# 绘制可视化地图\n",
    "c = (\n",
    "    Map()\n",
    "    .add(\"BOSS直聘计算机相关招聘信息概况\", formatted_data, \"china\")  # 将数据传入 \"china\" 地图\n",
    "    .set_global_opts(\n",
    "        title_opts=opts.TitleOpts(title=\"BOSS直聘计算机相关岗位数量分布\"),\n",
    "        visualmap_opts=opts.VisualMapOpts(\n",
    "            max_=max(province_dict.values()),  # 动态设置最大值\n",
    "            is_piecewise=True,\n",
    "            pieces=pieces,# 设置为分段显示\n",
    "            range_text=[\"高\", \"低\"]            # 显示文本\n",
    "        ),\n",
    "        tooltip_opts=opts.TooltipOpts(\n",
    "            trigger=\"item\",             # 鼠标悬停显示项\n",
    "            formatter=\"{b}: {c}\"         # 格式化显示省份和对应的数值\n",
    "        )\n",
    "    )\n",
    "    .set_series_opts(\n",
    "        label_opts=opts.LabelOpts(is_show=True, formatter=\"{c}\"),  # 显示数值\n",
    "        itemstyle_opts=opts.ItemStyleOpts(color=\"#69c0ff\")          # 自定义颜色\n",
    "    )\n",
    "    .render(output_path+\"map_base.html\")  # 渲染为 HTML 文件\n",
    ")\n"
   ],
   "id": "482b6d8a00c3417",
   "outputs": [
    {
     "ename": "NameError",
     "evalue": "name 'formatted_data' is not defined",
     "output_type": "error",
     "traceback": [
      "\u001B[1;31m---------------------------------------------------------------------------\u001B[0m",
      "\u001B[1;31mNameError\u001B[0m                                 Traceback (most recent call last)",
      "Cell \u001B[1;32mIn[18], line 6\u001B[0m\n\u001B[0;32m      1\u001B[0m \u001B[38;5;28;01mfrom\u001B[39;00m \u001B[38;5;21;01mpyecharts\u001B[39;00m\u001B[38;5;21;01m.\u001B[39;00m\u001B[38;5;21;01mcharts\u001B[39;00m \u001B[38;5;28;01mimport\u001B[39;00m Map\n\u001B[0;32m      3\u001B[0m \u001B[38;5;66;03m# 绘制可视化地图\u001B[39;00m\n\u001B[0;32m      4\u001B[0m c \u001B[38;5;241m=\u001B[39m (\n\u001B[0;32m      5\u001B[0m     Map()\n\u001B[1;32m----> 6\u001B[0m     \u001B[38;5;241m.\u001B[39madd(\u001B[38;5;124m\"\u001B[39m\u001B[38;5;124mBOSS直聘计算机相关招聘信息概况\u001B[39m\u001B[38;5;124m\"\u001B[39m, \u001B[43mformatted_data\u001B[49m, \u001B[38;5;124m\"\u001B[39m\u001B[38;5;124mchina\u001B[39m\u001B[38;5;124m\"\u001B[39m)  \u001B[38;5;66;03m# 将数据传入 \"china\" 地图\u001B[39;00m\n\u001B[0;32m      7\u001B[0m     \u001B[38;5;241m.\u001B[39mset_global_opts(\n\u001B[0;32m      8\u001B[0m         title_opts\u001B[38;5;241m=\u001B[39mopts\u001B[38;5;241m.\u001B[39mTitleOpts(title\u001B[38;5;241m=\u001B[39m\u001B[38;5;124m\"\u001B[39m\u001B[38;5;124mBOSS直聘计算机相关岗位数量分布\u001B[39m\u001B[38;5;124m\"\u001B[39m),\n\u001B[0;32m      9\u001B[0m         visualmap_opts\u001B[38;5;241m=\u001B[39mopts\u001B[38;5;241m.\u001B[39mVisualMapOpts(\n\u001B[0;32m     10\u001B[0m             max_\u001B[38;5;241m=\u001B[39m\u001B[38;5;28mmax\u001B[39m(province_dict\u001B[38;5;241m.\u001B[39mvalues()),  \u001B[38;5;66;03m# 动态设置最大值\u001B[39;00m\n\u001B[0;32m     11\u001B[0m             is_piecewise\u001B[38;5;241m=\u001B[39m\u001B[38;5;28;01mTrue\u001B[39;00m,\n\u001B[0;32m     12\u001B[0m             pieces\u001B[38;5;241m=\u001B[39mpieces,\u001B[38;5;66;03m# 设置为分段显示\u001B[39;00m\n\u001B[0;32m     13\u001B[0m             range_text\u001B[38;5;241m=\u001B[39m[\u001B[38;5;124m\"\u001B[39m\u001B[38;5;124m高\u001B[39m\u001B[38;5;124m\"\u001B[39m, \u001B[38;5;124m\"\u001B[39m\u001B[38;5;124m低\u001B[39m\u001B[38;5;124m\"\u001B[39m]            \u001B[38;5;66;03m# 显示文本\u001B[39;00m\n\u001B[0;32m     14\u001B[0m         ),\n\u001B[0;32m     15\u001B[0m         tooltip_opts\u001B[38;5;241m=\u001B[39mopts\u001B[38;5;241m.\u001B[39mTooltipOpts(\n\u001B[0;32m     16\u001B[0m             trigger\u001B[38;5;241m=\u001B[39m\u001B[38;5;124m\"\u001B[39m\u001B[38;5;124mitem\u001B[39m\u001B[38;5;124m\"\u001B[39m,             \u001B[38;5;66;03m# 鼠标悬停显示项\u001B[39;00m\n\u001B[0;32m     17\u001B[0m             formatter\u001B[38;5;241m=\u001B[39m\u001B[38;5;124m\"\u001B[39m\u001B[38;5;132;01m{b}\u001B[39;00m\u001B[38;5;124m: \u001B[39m\u001B[38;5;132;01m{c}\u001B[39;00m\u001B[38;5;124m\"\u001B[39m         \u001B[38;5;66;03m# 格式化显示省份和对应的数值\u001B[39;00m\n\u001B[0;32m     18\u001B[0m         )\n\u001B[0;32m     19\u001B[0m     )\n\u001B[0;32m     20\u001B[0m     \u001B[38;5;241m.\u001B[39mset_series_opts(\n\u001B[0;32m     21\u001B[0m         label_opts\u001B[38;5;241m=\u001B[39mopts\u001B[38;5;241m.\u001B[39mLabelOpts(is_show\u001B[38;5;241m=\u001B[39m\u001B[38;5;28;01mTrue\u001B[39;00m, formatter\u001B[38;5;241m=\u001B[39m\u001B[38;5;124m\"\u001B[39m\u001B[38;5;132;01m{c}\u001B[39;00m\u001B[38;5;124m\"\u001B[39m),  \u001B[38;5;66;03m# 显示数值\u001B[39;00m\n\u001B[0;32m     22\u001B[0m         itemstyle_opts\u001B[38;5;241m=\u001B[39mopts\u001B[38;5;241m.\u001B[39mItemStyleOpts(color\u001B[38;5;241m=\u001B[39m\u001B[38;5;124m\"\u001B[39m\u001B[38;5;124m#69c0ff\u001B[39m\u001B[38;5;124m\"\u001B[39m)          \u001B[38;5;66;03m# 自定义颜色\u001B[39;00m\n\u001B[0;32m     23\u001B[0m     )\n\u001B[0;32m     24\u001B[0m     \u001B[38;5;241m.\u001B[39mrender(output_path\u001B[38;5;241m+\u001B[39m\u001B[38;5;124m\"\u001B[39m\u001B[38;5;124mmap_base.html\u001B[39m\u001B[38;5;124m\"\u001B[39m)  \u001B[38;5;66;03m# 渲染为 HTML 文件\u001B[39;00m\n\u001B[0;32m     25\u001B[0m )\n",
      "\u001B[1;31mNameError\u001B[0m: name 'formatted_data' is not defined"
     ]
    }
   ],
   "execution_count": 18
  },
  {
   "metadata": {
    "ExecuteTime": {
     "end_time": "2024-12-18T05:32:33.040887Z",
     "start_time": "2024-12-18T05:32:33.024946Z"
    }
   },
   "cell_type": "code",
   "source": [
    "\n",
    "\n",
    "#数据分析初分组\n",
    "grouped_salary_by_location = df_data.groupby(['job_salary_range','job_location']).size().reset_index(name='count')\n",
    "grouped_salary_by_education = df_data.groupby(['job_salary_range','job_education']).size().reset_index(name='count')\n",
    "grouped_salary_by_experience = df_data.groupby(['job_salary_range','job_experience']).size().reset_index(name='count')\n",
    "\n"
   ],
   "id": "d90cf135a6f5ece3",
   "outputs": [],
   "execution_count": 3
  },
  {
   "metadata": {
    "ExecuteTime": {
     "end_time": "2024-12-18T05:32:41.135222Z",
     "start_time": "2024-12-18T05:32:41.063507Z"
    }
   },
   "cell_type": "code",
   "source": [
    "#薪资与城市的可视化分析\n",
    "from pyecharts.charts import Bar\n",
    "from pyecharts import options as opts\n",
    "import pandas as pd\n",
    "\n",
    "# 创建 DataFrame\n",
    "df_view = pd.DataFrame(grouped_salary_by_location)\n",
    "\n",
    "# 按薪资段和城市类型分组，并求每组的人数总和\n",
    "grouped = df_view.groupby(['job_salary_range', 'job_location'], as_index=False)['count'].sum()\n",
    "\n",
    "# 重塑数据，将城市类型变为列\n",
    "pivoted = grouped.pivot(index='job_salary_range', columns='job_location', values='count').reset_index()\n",
    "\n",
    "# 定义薪资段的排序规则\n",
    "salary_order = [\"5k以下\", \"5k-7k\", \"7k-8k\", \"8k-10k\", \"10k-12k\", \"12k-15k\", \"15k-20k\", \"20k以上\"]\n",
    "\n",
    "# 将薪资段按照指定的顺序排序\n",
    "pivoted['job_salary_range'] = pd.Categorical(pivoted['job_salary_range'], categories=salary_order, ordered=True)\n",
    "pivoted = pivoted.sort_values(by='job_salary_range')\n",
    "\n",
    "\n",
    "\n",
    "# 创建 pyecharts 图表\n",
    "c_l = (\n",
    "    Bar()\n",
    "    .add_xaxis(pivoted['job_salary_range'].tolist())  # 薪资段作为 X 轴\n",
    "    .add_yaxis(series_name=\"其他城市\", y_axis=pivoted['其他城市'].tolist())\n",
    "    .add_yaxis(series_name=\"二线城市\", y_axis=pivoted['二线城市'].tolist())\n",
    "    .add_yaxis(series_name=\"新一线城市\", y_axis=pivoted['新一线城市'].tolist())\n",
    "    .add_yaxis(series_name=\"超一线城市\", y_axis=pivoted['超一线城市'].tolist())\n",
    "    .set_global_opts(\n",
    "        title_opts=opts.TitleOpts(title=\"各城市薪资段人数统计\"),\n",
    "        xaxis_opts=opts.AxisOpts(type_=\"category\", name=\"薪资段\"),\n",
    "        yaxis_opts=opts.AxisOpts(name=\"人数\"),\n",
    "        legend_opts=opts.LegendOpts(pos_top=\"5%\"),  # 设置图例位置\n",
    "        datazoom_opts=[opts.DataZoomOpts(orient=\"vertical\"),opts.DataZoomOpts(orient=\"horizontal\")] # 添加横纵数据调节\n",
    "    )\n",
    "    .render(output_path+\"salary_by_location.html\")  # 输出文件\n",
    ")\n"
   ],
   "id": "4cfe0ff2c98bd9b2",
   "outputs": [],
   "execution_count": 4
  },
  {
   "metadata": {
    "ExecuteTime": {
     "end_time": "2024-12-18T05:32:46.681245Z",
     "start_time": "2024-12-18T05:32:46.647332Z"
    }
   },
   "cell_type": "code",
   "source": [
    "#薪资与学历的可视化分析\n",
    "from pyecharts.charts import Bar\n",
    "from pyecharts import options as opts\n",
    "import pandas as pd\n",
    "\n",
    "# 创建 DataFrame\n",
    "df_education = pd.DataFrame(grouped_salary_by_education)\n",
    "\n",
    "# 按薪资段和学历分组，并求每组的人数总和\n",
    "grouped = df_education.groupby(['job_salary_range', 'job_education'], as_index=False)['count'].sum()\n",
    "\n",
    "# 重塑数据，将城市类型变为列\n",
    "pivoted = grouped.pivot(index='job_salary_range', columns='job_education', values='count').reset_index()\n",
    "\n",
    "# 定义薪资段的排序规则\n",
    "salary_order = [\"5k以下\", \"5k-7k\", \"7k-8k\", \"8k-10k\", \"10k-12k\", \"12k-15k\", \"15k-20k\", \"20k以上\"]\n",
    "\n",
    "# 将薪资段按照指定的顺序排序\n",
    "pivoted['job_salary_range'] = pd.Categorical(pivoted['job_salary_range'], categories=salary_order, ordered=True)\n",
    "pivoted = pivoted.sort_values(by='job_salary_range')\n",
    "\n",
    "\n",
    "\n",
    "# 创建 pyecharts 图表\n",
    "c_e = (\n",
    "    Bar()\n",
    "    .add_xaxis(pivoted['job_salary_range'].tolist())  # 薪资段作为 X 轴\n",
    "    .add_yaxis(series_name=\"学历不限\", y_axis=pivoted['学历不限'].tolist())\n",
    "    .add_yaxis(series_name=\"高中\", y_axis=pivoted['高中'].tolist())\n",
    "    .add_yaxis(series_name=\"大专\", y_axis=pivoted['大专'].tolist())\n",
    "    .add_yaxis(series_name=\"本科\", y_axis=pivoted['本科'].tolist())\n",
    "    .add_yaxis(series_name=\"硕士\", y_axis=pivoted['硕士'].tolist())\n",
    "    .set_global_opts(\n",
    "        title_opts=opts.TitleOpts(title=\"各学历薪资段人数统计\"),\n",
    "        xaxis_opts=opts.AxisOpts(type_=\"category\", name=\"薪资段\"),\n",
    "        yaxis_opts=opts.AxisOpts(name=\"人数\"),\n",
    "        legend_opts=opts.LegendOpts(pos_top=\"5%\"),  # 设置图例位置\n",
    "        datazoom_opts=[opts.DataZoomOpts(orient=\"vertical\"),opts.DataZoomOpts(orient=\"horizontal\")] # 添加横纵数据调节\n",
    "    )\n",
    "    .render(output_path+\"salary_by_education.html\")  # 输出文件\n",
    ")\n"
   ],
   "id": "313b66236962c7e9",
   "outputs": [],
   "execution_count": 5
  },
  {
   "metadata": {
    "ExecuteTime": {
     "end_time": "2024-12-18T05:32:51.845858Z",
     "start_time": "2024-12-18T05:32:50.327503Z"
    }
   },
   "cell_type": "code",
   "source": [
    "#薪资与经验的可视化分析\n",
    "from pyecharts.charts import Bar\n",
    "from pyecharts import options as opts\n",
    "import pandas as pd\n",
    "\n",
    "# 创建 DataFrame\n",
    "df_view = pd.DataFrame(grouped_salary_by_experience)\n",
    "\n",
    "# 按薪资段和经验类型分组，并求每组的人数总和\n",
    "grouped = df_view.groupby(['job_salary_range', 'job_experience'], as_index=False)['count'].sum()\n",
    "\n",
    "# 重塑数据，将经验类型变为列\n",
    "pivoted = grouped.pivot(index='job_salary_range', columns='job_experience', values='count').reset_index()\n",
    "\n",
    "# 定义薪资段的排序规则\n",
    "salary_order = [\"5k以下\", \"5k-7k\", \"7k-8k\", \"8k-10k\", \"10k-12k\", \"12k-15k\", \"15k-20k\", \"20k以上\"]\n",
    "# 定义经验年限的排序规则\n",
    "experience_order = [\"在校/应届\", \"1年以下\", \"1-3年\", \"3-5年\", \"5-10年\", \"10年以上\"]\n",
    "#将薪资段按照指定的顺序排序\n",
    "pivoted['job_salary_range'] = pd.Categorical(pivoted['job_salary_range'], categories=salary_order, ordered=True)\n",
    "pivoted = pivoted.sort_values(by='job_salary_range')\n",
    "\n",
    "\n",
    "\n",
    "# 创建 pyecharts 图表\n",
    "c_i = (\n",
    "    Bar()\n",
    "    .add_xaxis(pivoted['job_salary_range'].tolist())  # 薪资段作为 X 轴\n",
    "    .add_yaxis(series_name=\"经验不限\", y_axis=pivoted['经验不限'].tolist())\n",
    "    .add_yaxis(series_name=\"在校/应届\", y_axis=pivoted['在校/应届'].tolist())\n",
    "    .add_yaxis(series_name=\"1年以下\", y_axis=pivoted['1年以下'].tolist())\n",
    "    .add_yaxis(series_name=\"1-3年\", y_axis=pivoted['1-3年'].tolist())\n",
    "    .add_yaxis(series_name=\"3-5年\", y_axis=pivoted['3-5年'].tolist())\n",
    "    .add_yaxis(series_name=\"5-10年\", y_axis=pivoted['5-10年'].tolist())\n",
    "    .add_yaxis(series_name=\"10年以上\", y_axis=pivoted['10年以上'].tolist())\n",
    "    .set_global_opts(\n",
    "        title_opts=opts.TitleOpts(title=\"各经验薪资段人数统计\"),\n",
    "        xaxis_opts=opts.AxisOpts(type_=\"category\", name=\"薪资段\"),\n",
    "        yaxis_opts=opts.AxisOpts(name=\"人数\"),\n",
    "        legend_opts=opts.LegendOpts(pos_top=\"5%\"),  # 设置图例位置\n",
    "        datazoom_opts=[opts.DataZoomOpts(orient=\"vertical\"),opts.DataZoomOpts(orient=\"horizontal\")] # 添加横纵数据调节\n",
    "\n",
    "    )\n",
    "    .render(output_path+\"salary_by_experience.html\")  # 输出文件\n",
    ")\n"
   ],
   "id": "3b406385f400d1ec",
   "outputs": [
    {
     "ename": "KeyError",
     "evalue": "'在校/应届'",
     "output_type": "error",
     "traceback": [
      "\u001B[1;31m---------------------------------------------------------------------------\u001B[0m",
      "\u001B[1;31mKeyError\u001B[0m                                  Traceback (most recent call last)",
      "File \u001B[1;32mD:\\MuMuwork\\Anaconda\\envs\\data_analysis\\lib\\site-packages\\pandas\\core\\indexes\\base.py:2889\u001B[0m, in \u001B[0;36mIndex.get_loc\u001B[1;34m(self, key, method, tolerance)\u001B[0m\n\u001B[0;32m   2888\u001B[0m \u001B[38;5;28;01mtry\u001B[39;00m:\n\u001B[1;32m-> 2889\u001B[0m     \u001B[38;5;28;01mreturn\u001B[39;00m \u001B[38;5;28;43mself\u001B[39;49m\u001B[38;5;241;43m.\u001B[39;49m\u001B[43m_engine\u001B[49m\u001B[38;5;241;43m.\u001B[39;49m\u001B[43mget_loc\u001B[49m\u001B[43m(\u001B[49m\u001B[43mcasted_key\u001B[49m\u001B[43m)\u001B[49m\n\u001B[0;32m   2890\u001B[0m \u001B[38;5;28;01mexcept\u001B[39;00m \u001B[38;5;167;01mKeyError\u001B[39;00m \u001B[38;5;28;01mas\u001B[39;00m err:\n",
      "File \u001B[1;32mpandas\\_libs\\index.pyx:70\u001B[0m, in \u001B[0;36mpandas._libs.index.IndexEngine.get_loc\u001B[1;34m()\u001B[0m\n",
      "File \u001B[1;32mpandas\\_libs\\index.pyx:97\u001B[0m, in \u001B[0;36mpandas._libs.index.IndexEngine.get_loc\u001B[1;34m()\u001B[0m\n",
      "File \u001B[1;32mpandas\\_libs\\hashtable_class_helper.pxi:1675\u001B[0m, in \u001B[0;36mpandas._libs.hashtable.PyObjectHashTable.get_item\u001B[1;34m()\u001B[0m\n",
      "File \u001B[1;32mpandas\\_libs\\hashtable_class_helper.pxi:1683\u001B[0m, in \u001B[0;36mpandas._libs.hashtable.PyObjectHashTable.get_item\u001B[1;34m()\u001B[0m\n",
      "\u001B[1;31mKeyError\u001B[0m: '在校/应届'",
      "\nThe above exception was the direct cause of the following exception:\n",
      "\u001B[1;31mKeyError\u001B[0m                                  Traceback (most recent call last)",
      "Cell \u001B[1;32mIn[6], line 30\u001B[0m\n\u001B[0;32m     21\u001B[0m pivoted \u001B[38;5;241m=\u001B[39m pivoted\u001B[38;5;241m.\u001B[39msort_values(by\u001B[38;5;241m=\u001B[39m\u001B[38;5;124m'\u001B[39m\u001B[38;5;124mjob_salary_range\u001B[39m\u001B[38;5;124m'\u001B[39m)\n\u001B[0;32m     25\u001B[0m \u001B[38;5;66;03m# 创建 pyecharts 图表\u001B[39;00m\n\u001B[0;32m     26\u001B[0m c_i \u001B[38;5;241m=\u001B[39m (\n\u001B[0;32m     27\u001B[0m     Bar()\n\u001B[0;32m     28\u001B[0m     \u001B[38;5;241m.\u001B[39madd_xaxis(pivoted[\u001B[38;5;124m'\u001B[39m\u001B[38;5;124mjob_salary_range\u001B[39m\u001B[38;5;124m'\u001B[39m]\u001B[38;5;241m.\u001B[39mtolist())  \u001B[38;5;66;03m# 薪资段作为 X 轴\u001B[39;00m\n\u001B[0;32m     29\u001B[0m     \u001B[38;5;241m.\u001B[39madd_yaxis(series_name\u001B[38;5;241m=\u001B[39m\u001B[38;5;124m\"\u001B[39m\u001B[38;5;124m经验不限\u001B[39m\u001B[38;5;124m\"\u001B[39m, y_axis\u001B[38;5;241m=\u001B[39mpivoted[\u001B[38;5;124m'\u001B[39m\u001B[38;5;124m经验不限\u001B[39m\u001B[38;5;124m'\u001B[39m]\u001B[38;5;241m.\u001B[39mtolist())\n\u001B[1;32m---> 30\u001B[0m     \u001B[38;5;241m.\u001B[39madd_yaxis(series_name\u001B[38;5;241m=\u001B[39m\u001B[38;5;124m\"\u001B[39m\u001B[38;5;124m在校/应届\u001B[39m\u001B[38;5;124m\"\u001B[39m, y_axis\u001B[38;5;241m=\u001B[39m\u001B[43mpivoted\u001B[49m\u001B[43m[\u001B[49m\u001B[38;5;124;43m'\u001B[39;49m\u001B[38;5;124;43m在校/应届\u001B[39;49m\u001B[38;5;124;43m'\u001B[39;49m\u001B[43m]\u001B[49m\u001B[38;5;241m.\u001B[39mtolist())\n\u001B[0;32m     31\u001B[0m     \u001B[38;5;66;03m# .add_yaxis(series_name=\"1年以内\", y_axis=pivoted['1年以内'].tolist())\u001B[39;00m\n\u001B[0;32m     32\u001B[0m     \u001B[38;5;241m.\u001B[39madd_yaxis(series_name\u001B[38;5;241m=\u001B[39m\u001B[38;5;124m\"\u001B[39m\u001B[38;5;124m1年以下\u001B[39m\u001B[38;5;124m\"\u001B[39m, y_axis\u001B[38;5;241m=\u001B[39mpivoted[\u001B[38;5;124m'\u001B[39m\u001B[38;5;124m1年以下\u001B[39m\u001B[38;5;124m'\u001B[39m]\u001B[38;5;241m.\u001B[39mtolist())\n\u001B[0;32m     33\u001B[0m     \u001B[38;5;241m.\u001B[39madd_yaxis(series_name\u001B[38;5;241m=\u001B[39m\u001B[38;5;124m\"\u001B[39m\u001B[38;5;124m1-3年\u001B[39m\u001B[38;5;124m\"\u001B[39m, y_axis\u001B[38;5;241m=\u001B[39mpivoted[\u001B[38;5;124m'\u001B[39m\u001B[38;5;124m1-3年\u001B[39m\u001B[38;5;124m'\u001B[39m]\u001B[38;5;241m.\u001B[39mtolist())\n\u001B[0;32m     34\u001B[0m     \u001B[38;5;241m.\u001B[39madd_yaxis(series_name\u001B[38;5;241m=\u001B[39m\u001B[38;5;124m\"\u001B[39m\u001B[38;5;124m3-5年\u001B[39m\u001B[38;5;124m\"\u001B[39m, y_axis\u001B[38;5;241m=\u001B[39mpivoted[\u001B[38;5;124m'\u001B[39m\u001B[38;5;124m3-5年\u001B[39m\u001B[38;5;124m'\u001B[39m]\u001B[38;5;241m.\u001B[39mtolist())\n\u001B[0;32m     35\u001B[0m     \u001B[38;5;241m.\u001B[39madd_yaxis(series_name\u001B[38;5;241m=\u001B[39m\u001B[38;5;124m\"\u001B[39m\u001B[38;5;124m5-10年\u001B[39m\u001B[38;5;124m\"\u001B[39m, y_axis\u001B[38;5;241m=\u001B[39mpivoted[\u001B[38;5;124m'\u001B[39m\u001B[38;5;124m5-10年\u001B[39m\u001B[38;5;124m'\u001B[39m]\u001B[38;5;241m.\u001B[39mtolist())\n\u001B[0;32m     36\u001B[0m     \u001B[38;5;241m.\u001B[39madd_yaxis(series_name\u001B[38;5;241m=\u001B[39m\u001B[38;5;124m\"\u001B[39m\u001B[38;5;124m10年以上\u001B[39m\u001B[38;5;124m\"\u001B[39m, y_axis\u001B[38;5;241m=\u001B[39mpivoted[\u001B[38;5;124m'\u001B[39m\u001B[38;5;124m10年以上\u001B[39m\u001B[38;5;124m'\u001B[39m]\u001B[38;5;241m.\u001B[39mtolist())\n\u001B[0;32m     37\u001B[0m     \u001B[38;5;241m.\u001B[39mset_global_opts(\n\u001B[0;32m     38\u001B[0m         title_opts\u001B[38;5;241m=\u001B[39mopts\u001B[38;5;241m.\u001B[39mTitleOpts(title\u001B[38;5;241m=\u001B[39m\u001B[38;5;124m\"\u001B[39m\u001B[38;5;124m各经验薪资段人数统计\u001B[39m\u001B[38;5;124m\"\u001B[39m),\n\u001B[0;32m     39\u001B[0m         xaxis_opts\u001B[38;5;241m=\u001B[39mopts\u001B[38;5;241m.\u001B[39mAxisOpts(type_\u001B[38;5;241m=\u001B[39m\u001B[38;5;124m\"\u001B[39m\u001B[38;5;124mcategory\u001B[39m\u001B[38;5;124m\"\u001B[39m, name\u001B[38;5;241m=\u001B[39m\u001B[38;5;124m\"\u001B[39m\u001B[38;5;124m薪资段\u001B[39m\u001B[38;5;124m\"\u001B[39m),\n\u001B[0;32m     40\u001B[0m         yaxis_opts\u001B[38;5;241m=\u001B[39mopts\u001B[38;5;241m.\u001B[39mAxisOpts(name\u001B[38;5;241m=\u001B[39m\u001B[38;5;124m\"\u001B[39m\u001B[38;5;124m人数\u001B[39m\u001B[38;5;124m\"\u001B[39m),\n\u001B[0;32m     41\u001B[0m         legend_opts\u001B[38;5;241m=\u001B[39mopts\u001B[38;5;241m.\u001B[39mLegendOpts(pos_top\u001B[38;5;241m=\u001B[39m\u001B[38;5;124m\"\u001B[39m\u001B[38;5;124m5\u001B[39m\u001B[38;5;124m%\u001B[39m\u001B[38;5;124m\"\u001B[39m),  \u001B[38;5;66;03m# 设置图例位置\u001B[39;00m\n\u001B[0;32m     42\u001B[0m         datazoom_opts\u001B[38;5;241m=\u001B[39m[opts\u001B[38;5;241m.\u001B[39mDataZoomOpts(orient\u001B[38;5;241m=\u001B[39m\u001B[38;5;124m\"\u001B[39m\u001B[38;5;124mvertical\u001B[39m\u001B[38;5;124m\"\u001B[39m),opts\u001B[38;5;241m.\u001B[39mDataZoomOpts(orient\u001B[38;5;241m=\u001B[39m\u001B[38;5;124m\"\u001B[39m\u001B[38;5;124mhorizontal\u001B[39m\u001B[38;5;124m\"\u001B[39m)] \u001B[38;5;66;03m# 添加横纵数据调节\u001B[39;00m\n\u001B[0;32m     43\u001B[0m \n\u001B[0;32m     44\u001B[0m     )\n\u001B[0;32m     45\u001B[0m     \u001B[38;5;241m.\u001B[39mrender(output_path\u001B[38;5;241m+\u001B[39m\u001B[38;5;124m\"\u001B[39m\u001B[38;5;124msalary_by_experience.html\u001B[39m\u001B[38;5;124m\"\u001B[39m)  \u001B[38;5;66;03m# 输出文件\u001B[39;00m\n\u001B[0;32m     46\u001B[0m )\n",
      "File \u001B[1;32mD:\\MuMuwork\\Anaconda\\envs\\data_analysis\\lib\\site-packages\\pandas\\core\\frame.py:2902\u001B[0m, in \u001B[0;36mDataFrame.__getitem__\u001B[1;34m(self, key)\u001B[0m\n\u001B[0;32m   2900\u001B[0m \u001B[38;5;28;01mif\u001B[39;00m \u001B[38;5;28mself\u001B[39m\u001B[38;5;241m.\u001B[39mcolumns\u001B[38;5;241m.\u001B[39mnlevels \u001B[38;5;241m>\u001B[39m \u001B[38;5;241m1\u001B[39m:\n\u001B[0;32m   2901\u001B[0m     \u001B[38;5;28;01mreturn\u001B[39;00m \u001B[38;5;28mself\u001B[39m\u001B[38;5;241m.\u001B[39m_getitem_multilevel(key)\n\u001B[1;32m-> 2902\u001B[0m indexer \u001B[38;5;241m=\u001B[39m \u001B[38;5;28;43mself\u001B[39;49m\u001B[38;5;241;43m.\u001B[39;49m\u001B[43mcolumns\u001B[49m\u001B[38;5;241;43m.\u001B[39;49m\u001B[43mget_loc\u001B[49m\u001B[43m(\u001B[49m\u001B[43mkey\u001B[49m\u001B[43m)\u001B[49m\n\u001B[0;32m   2903\u001B[0m \u001B[38;5;28;01mif\u001B[39;00m is_integer(indexer):\n\u001B[0;32m   2904\u001B[0m     indexer \u001B[38;5;241m=\u001B[39m [indexer]\n",
      "File \u001B[1;32mD:\\MuMuwork\\Anaconda\\envs\\data_analysis\\lib\\site-packages\\pandas\\core\\indexes\\base.py:2891\u001B[0m, in \u001B[0;36mIndex.get_loc\u001B[1;34m(self, key, method, tolerance)\u001B[0m\n\u001B[0;32m   2889\u001B[0m         \u001B[38;5;28;01mreturn\u001B[39;00m \u001B[38;5;28mself\u001B[39m\u001B[38;5;241m.\u001B[39m_engine\u001B[38;5;241m.\u001B[39mget_loc(casted_key)\n\u001B[0;32m   2890\u001B[0m     \u001B[38;5;28;01mexcept\u001B[39;00m \u001B[38;5;167;01mKeyError\u001B[39;00m \u001B[38;5;28;01mas\u001B[39;00m err:\n\u001B[1;32m-> 2891\u001B[0m         \u001B[38;5;28;01mraise\u001B[39;00m \u001B[38;5;167;01mKeyError\u001B[39;00m(key) \u001B[38;5;28;01mfrom\u001B[39;00m \u001B[38;5;21;01merr\u001B[39;00m\n\u001B[0;32m   2893\u001B[0m \u001B[38;5;28;01mif\u001B[39;00m tolerance \u001B[38;5;129;01mis\u001B[39;00m \u001B[38;5;129;01mnot\u001B[39;00m \u001B[38;5;28;01mNone\u001B[39;00m:\n\u001B[0;32m   2894\u001B[0m     tolerance \u001B[38;5;241m=\u001B[39m \u001B[38;5;28mself\u001B[39m\u001B[38;5;241m.\u001B[39m_convert_tolerance(tolerance, np\u001B[38;5;241m.\u001B[39masarray(key))\n",
      "\u001B[1;31mKeyError\u001B[0m: '在校/应届'"
     ]
    }
   ],
   "execution_count": 6
  }
 ],
 "metadata": {
  "kernelspec": {
   "display_name": "Python 3",
   "language": "python",
   "name": "python3"
  },
  "language_info": {
   "codemirror_mode": {
    "name": "ipython",
    "version": 2
   },
   "file_extension": ".py",
   "mimetype": "text/x-python",
   "name": "python",
   "nbconvert_exporter": "python",
   "pygments_lexer": "ipython2",
   "version": "2.7.6"
  }
 },
 "nbformat": 4,
 "nbformat_minor": 5
}
